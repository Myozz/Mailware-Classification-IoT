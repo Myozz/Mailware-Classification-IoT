{
 "cells": [
  {
   "cell_type": "code",
   "execution_count": 1,
   "id": "25631e86",
   "metadata": {
    "execution": {
     "iopub.execute_input": "2024-06-22T00:24:50.445789Z",
     "iopub.status.busy": "2024-06-22T00:24:50.445367Z",
     "iopub.status.idle": "2024-06-22T00:24:53.943237Z",
     "shell.execute_reply": "2024-06-22T00:24:53.941858Z"
    },
    "papermill": {
     "duration": 3.514902,
     "end_time": "2024-06-22T00:24:53.945989",
     "exception": false,
     "start_time": "2024-06-22T00:24:50.431087",
     "status": "completed"
    },
    "tags": []
   },
   "outputs": [],
   "source": [
    "import pandas as pd\n",
    "import numpy as np\n",
    "import os\n",
    "import pickle\n",
    "import matplotlib.pyplot as plt\n",
    "import seaborn as sns\n",
    "from sklearn import __version__ as sklearn_version\n",
    "from sklearn.preprocessing import LabelEncoder\n",
    "from sklearn.decomposition import PCA\n",
    "from sklearn.preprocessing import scale\n",
    "from sklearn.model_selection import train_test_split, cross_validate, GridSearchCV, learning_curve, RandomizedSearchCV\n",
    "from sklearn.preprocessing import StandardScaler, MinMaxScaler, label_binarize\n",
    "from sklearn.dummy import DummyClassifier\n",
    "from sklearn.metrics import ConfusionMatrixDisplay, r2_score, mean_squared_error, accuracy_score, make_scorer, mean_absolute_error, confusion_matrix, classification_report, roc_curve, roc_auc_score, precision_recall_fscore_support\n",
    "from sklearn.linear_model import LogisticRegression\n",
    "from sklearn.neighbors import KNeighborsClassifier\n",
    "from sklearn.naive_bayes import GaussianNB\n",
    "from sklearn.tree import DecisionTreeClassifier\n",
    "from sklearn.ensemble import RandomForestClassifier\n",
    "from sklearn.multiclass import OneVsRestClassifier\n",
    "from sklearn.ensemble import AdaBoostClassifier\n",
    "from sklearn.neural_network import MLPClassifier\n",
    "from sklearn.preprocessing import StandardScaler\n",
    "from sklearn.svm import SVC, LinearSVC\n",
    "from sklearn.pipeline import Pipeline\n",
    "from sklearn.impute import SimpleImputer\n",
    "from sklearn.feature_selection import SelectKBest, f_regression\n",
    "import datetime\n",
    "import time\n",
    "import joblib\n",
    "import warnings\n",
    "warnings.simplefilter(action='ignore', category=FutureWarning)\n",
    "\n",
    "import xgboost as xgb\n",
    "\n",
    "from sklearn.tree import DecisionTreeClassifier\n"
   ]
  },
  {
   "cell_type": "code",
   "execution_count": 2,
   "id": "f9ed29ca",
   "metadata": {
    "execution": {
     "iopub.execute_input": "2024-06-22T00:24:53.996949Z",
     "iopub.status.busy": "2024-06-22T00:24:53.995745Z",
     "iopub.status.idle": "2024-06-22T00:24:54.008087Z",
     "shell.execute_reply": "2024-06-22T00:24:54.006605Z"
    },
    "papermill": {
     "duration": 0.029357,
     "end_time": "2024-06-22T00:24:54.011475",
     "exception": false,
     "start_time": "2024-06-22T00:24:53.982118",
     "status": "completed"
    },
    "tags": []
   },
   "outputs": [],
   "source": [
    "def algorithms(X_train, y_train, X_test, y_test, classifier, scaler=False, plot_confusion_matrix=True, model_filename='model.joblib'):\n",
    "    \n",
    "    # Lựa chọn chuẩn hóa hay không\n",
    "    if scaler:\n",
    "        steps = [('scaler', StandardScaler()), ('clf', classifier)]\n",
    "    else:\n",
    "        steps = [('clf', classifier)]\n",
    "        \n",
    "    pipeline = Pipeline(steps)\n",
    "\n",
    "    # Huấn luyện trên tập train\n",
    "    pipeline.fit(X_train, y_train)\n",
    "\n",
    "    # Dự đoán trên tập train và test\n",
    "    train_pred = pipeline.predict(X_train)\n",
    "    test_pred = pipeline.predict(X_test)\n",
    "\n",
    "    # In kết quả đánh giá\n",
    "    print(\"TRAIN Set Classification Report:\")\n",
    "    print(classification_report(y_train, train_pred))\n",
    "    print(\"TEST Set Classification Report:\")\n",
    "    print(classification_report(y_test, test_pred))\n",
    "    print(\"\")\n",
    "    print(\"Parameters Used: \\n\\n\", pipeline.get_params())\n",
    "\n",
    "    # Tính toán và hiển thị Confusion Matrix (không thay đổi)\n",
    "    if plot_confusion_matrix:\n",
    "        cm = confusion_matrix(y_test, test_pred)\n",
    "        disp = ConfusionMatrixDisplay(confusion_matrix=cm, display_labels=classifier.classes_)\n",
    "        disp.plot()\n",
    "        plt.show()\n",
    "\n",
    "    # Lưu mô hình\n",
    "    joblib.dump(pipeline, model_filename)\n",
    "    print(f\"Saved to: {model_filename}\")"
   ]
  },
  {
   "cell_type": "code",
   "execution_count": 3,
   "id": "e31bad30",
   "metadata": {
    "execution": {
     "iopub.execute_input": "2024-06-22T00:24:54.046978Z",
     "iopub.status.busy": "2024-06-22T00:24:54.046463Z",
     "iopub.status.idle": "2024-06-22T00:25:11.923225Z",
     "shell.execute_reply": "2024-06-22T00:25:11.922091Z"
    },
    "papermill": {
     "duration": 17.897772,
     "end_time": "2024-06-22T00:25:11.925874",
     "exception": false,
     "start_time": "2024-06-22T00:24:54.028102",
     "status": "completed"
    },
    "tags": []
   },
   "outputs": [],
   "source": [
    "iot_data = pd.read_csv('/kaggle/input/traiining-p2/iot23_processed_fix_2.csv')"
   ]
  },
  {
   "cell_type": "code",
   "execution_count": 4,
   "id": "d0d0ca43",
   "metadata": {
    "execution": {
     "iopub.execute_input": "2024-06-22T00:25:11.951808Z",
     "iopub.status.busy": "2024-06-22T00:25:11.951362Z",
     "iopub.status.idle": "2024-06-22T00:25:11.985393Z",
     "shell.execute_reply": "2024-06-22T00:25:11.984069Z"
    },
    "papermill": {
     "duration": 0.049683,
     "end_time": "2024-06-22T00:25:11.988080",
     "exception": false,
     "start_time": "2024-06-22T00:25:11.938397",
     "status": "completed"
    },
    "tags": []
   },
   "outputs": [
    {
     "name": "stdout",
     "output_type": "stream",
     "text": [
      "<class 'pandas.core.frame.DataFrame'>\n",
      "RangeIndex: 2280000 entries, 0 to 2279999\n",
      "Data columns (total 47 columns):\n",
      " #   Column             Dtype  \n",
      "---  ------             -----  \n",
      " 0   id.orig_p          float64\n",
      " 1   id.resp_p          float64\n",
      " 2   duration           float64\n",
      " 3   orig_bytes         float64\n",
      " 4   resp_bytes         float64\n",
      " 5   missed_bytes       float64\n",
      " 6   orig_pkts          float64\n",
      " 7   orig_ip_bytes      float64\n",
      " 8   resp_pkts          float64\n",
      " 9   resp_ip_bytes      float64\n",
      " 10  label              float64\n",
      " 11  proto_icmp         float64\n",
      " 12  proto_tcp          float64\n",
      " 13  proto_udp          float64\n",
      " 14  service_dhcp       float64\n",
      " 15  service_dns        float64\n",
      " 16  service_http       float64\n",
      " 17  service_ssh        float64\n",
      " 18  service_ssl        float64\n",
      " 19  conn_state_OTH     float64\n",
      " 20  conn_state_REJ     float64\n",
      " 21  conn_state_RSTO    float64\n",
      " 22  conn_state_RSTOS0  float64\n",
      " 23  conn_state_RSTR    float64\n",
      " 24  conn_state_RSTRH   float64\n",
      " 25  conn_state_S0      float64\n",
      " 26  conn_state_S1      float64\n",
      " 27  conn_state_S2      float64\n",
      " 28  conn_state_S3      float64\n",
      " 29  conn_state_SF      float64\n",
      " 30  conn_state_SH      float64\n",
      " 31  conn_state_SHR     float64\n",
      " 32  history_C          float64\n",
      " 33  history_D          float64\n",
      " 34  history_Dd         float64\n",
      " 35  history_F          float64\n",
      " 36  history_Other      float64\n",
      " 37  history_S          float64\n",
      " 38  history_ShADadfF   float64\n",
      " 39  history_ShADafF    float64\n",
      " 40  history_ShAFf      float64\n",
      " 41  history_ShAdDaFf   float64\n",
      " 42  history_ShAdDaf    float64\n",
      " 43  history_ShAdDafF   float64\n",
      " 44  history_ShAdfDr    float64\n",
      " 45  history_Sr         float64\n",
      " 46  history_^c         float64\n",
      "dtypes: float64(47)\n",
      "memory usage: 817.6 MB\n"
     ]
    }
   ],
   "source": [
    "iot_data.info()"
   ]
  },
  {
   "cell_type": "code",
   "execution_count": 5,
   "id": "49602898",
   "metadata": {
    "execution": {
     "iopub.execute_input": "2024-06-22T00:25:12.016184Z",
     "iopub.status.busy": "2024-06-22T00:25:12.015780Z",
     "iopub.status.idle": "2024-06-22T00:25:12.062287Z",
     "shell.execute_reply": "2024-06-22T00:25:12.061178Z"
    },
    "papermill": {
     "duration": 0.06456,
     "end_time": "2024-06-22T00:25:12.065050",
     "exception": false,
     "start_time": "2024-06-22T00:25:12.000490",
     "status": "completed"
    },
    "tags": []
   },
   "outputs": [
    {
     "data": {
      "text/plain": [
       "label\n",
       "3.0    700000\n",
       "2.0    650000\n",
       "0.0    550000\n",
       "1.0    380000\n",
       "Name: count, dtype: int64"
      ]
     },
     "execution_count": 5,
     "metadata": {},
     "output_type": "execute_result"
    }
   ],
   "source": [
    "iot_data['label'].value_counts()"
   ]
  },
  {
   "cell_type": "code",
   "execution_count": 6,
   "id": "68826148",
   "metadata": {
    "execution": {
     "iopub.execute_input": "2024-06-22T00:25:12.091626Z",
     "iopub.status.busy": "2024-06-22T00:25:12.091217Z",
     "iopub.status.idle": "2024-06-22T00:25:12.096596Z",
     "shell.execute_reply": "2024-06-22T00:25:12.095465Z"
    },
    "papermill": {
     "duration": 0.021234,
     "end_time": "2024-06-22T00:25:12.098936",
     "exception": false,
     "start_time": "2024-06-22T00:25:12.077702",
     "status": "completed"
    },
    "tags": []
   },
   "outputs": [],
   "source": [
    "#iot_data.drop(columns = ['label2','ts','starting_point','Unnamed: 0'], inplace = True)"
   ]
  },
  {
   "cell_type": "code",
   "execution_count": 7,
   "id": "c819c12a",
   "metadata": {
    "execution": {
     "iopub.execute_input": "2024-06-22T00:25:12.125513Z",
     "iopub.status.busy": "2024-06-22T00:25:12.125106Z",
     "iopub.status.idle": "2024-06-22T00:25:12.160898Z",
     "shell.execute_reply": "2024-06-22T00:25:12.159708Z"
    },
    "papermill": {
     "duration": 0.052807,
     "end_time": "2024-06-22T00:25:12.163854",
     "exception": false,
     "start_time": "2024-06-22T00:25:12.111047",
     "status": "completed"
    },
    "tags": []
   },
   "outputs": [
    {
     "data": {
      "text/html": [
       "<div>\n",
       "<style scoped>\n",
       "    .dataframe tbody tr th:only-of-type {\n",
       "        vertical-align: middle;\n",
       "    }\n",
       "\n",
       "    .dataframe tbody tr th {\n",
       "        vertical-align: top;\n",
       "    }\n",
       "\n",
       "    .dataframe thead th {\n",
       "        text-align: right;\n",
       "    }\n",
       "</style>\n",
       "<table border=\"1\" class=\"dataframe\">\n",
       "  <thead>\n",
       "    <tr style=\"text-align: right;\">\n",
       "      <th></th>\n",
       "      <th>id.orig_p</th>\n",
       "      <th>id.resp_p</th>\n",
       "      <th>duration</th>\n",
       "      <th>orig_bytes</th>\n",
       "      <th>resp_bytes</th>\n",
       "      <th>missed_bytes</th>\n",
       "      <th>orig_pkts</th>\n",
       "      <th>orig_ip_bytes</th>\n",
       "      <th>resp_pkts</th>\n",
       "      <th>resp_ip_bytes</th>\n",
       "      <th>...</th>\n",
       "      <th>history_S</th>\n",
       "      <th>history_ShADadfF</th>\n",
       "      <th>history_ShADafF</th>\n",
       "      <th>history_ShAFf</th>\n",
       "      <th>history_ShAdDaFf</th>\n",
       "      <th>history_ShAdDaf</th>\n",
       "      <th>history_ShAdDafF</th>\n",
       "      <th>history_ShAdfDr</th>\n",
       "      <th>history_Sr</th>\n",
       "      <th>history_^c</th>\n",
       "    </tr>\n",
       "  </thead>\n",
       "  <tbody>\n",
       "    <tr>\n",
       "      <th>0</th>\n",
       "      <td>0.279911</td>\n",
       "      <td>0.806729</td>\n",
       "      <td>1.268386e-11</td>\n",
       "      <td>0.000000</td>\n",
       "      <td>0.000000</td>\n",
       "      <td>0.0</td>\n",
       "      <td>3.029048e-08</td>\n",
       "      <td>4.177997e-08</td>\n",
       "      <td>0.0</td>\n",
       "      <td>0.0</td>\n",
       "      <td>...</td>\n",
       "      <td>1.0</td>\n",
       "      <td>0.0</td>\n",
       "      <td>0.0</td>\n",
       "      <td>0.0</td>\n",
       "      <td>0.0</td>\n",
       "      <td>0.0</td>\n",
       "      <td>0.0</td>\n",
       "      <td>0.0</td>\n",
       "      <td>0.0</td>\n",
       "      <td>0.0</td>\n",
       "    </tr>\n",
       "    <tr>\n",
       "      <th>1</th>\n",
       "      <td>0.668238</td>\n",
       "      <td>0.951186</td>\n",
       "      <td>2.158813e-05</td>\n",
       "      <td>0.000003</td>\n",
       "      <td>0.000002</td>\n",
       "      <td>0.0</td>\n",
       "      <td>0.000000e+00</td>\n",
       "      <td>0.000000e+00</td>\n",
       "      <td>0.0</td>\n",
       "      <td>0.0</td>\n",
       "      <td>...</td>\n",
       "      <td>0.0</td>\n",
       "      <td>0.0</td>\n",
       "      <td>0.0</td>\n",
       "      <td>0.0</td>\n",
       "      <td>0.0</td>\n",
       "      <td>0.0</td>\n",
       "      <td>0.0</td>\n",
       "      <td>0.0</td>\n",
       "      <td>0.0</td>\n",
       "      <td>0.0</td>\n",
       "    </tr>\n",
       "    <tr>\n",
       "      <th>2</th>\n",
       "      <td>0.279911</td>\n",
       "      <td>0.806729</td>\n",
       "      <td>1.268386e-11</td>\n",
       "      <td>0.000000</td>\n",
       "      <td>0.000000</td>\n",
       "      <td>0.0</td>\n",
       "      <td>3.029048e-08</td>\n",
       "      <td>4.177997e-08</td>\n",
       "      <td>0.0</td>\n",
       "      <td>0.0</td>\n",
       "      <td>...</td>\n",
       "      <td>1.0</td>\n",
       "      <td>0.0</td>\n",
       "      <td>0.0</td>\n",
       "      <td>0.0</td>\n",
       "      <td>0.0</td>\n",
       "      <td>0.0</td>\n",
       "      <td>0.0</td>\n",
       "      <td>0.0</td>\n",
       "      <td>0.0</td>\n",
       "      <td>0.0</td>\n",
       "    </tr>\n",
       "    <tr>\n",
       "      <th>3</th>\n",
       "      <td>0.279911</td>\n",
       "      <td>0.806729</td>\n",
       "      <td>1.268386e-11</td>\n",
       "      <td>0.000000</td>\n",
       "      <td>0.000000</td>\n",
       "      <td>0.0</td>\n",
       "      <td>3.029048e-08</td>\n",
       "      <td>4.177997e-08</td>\n",
       "      <td>0.0</td>\n",
       "      <td>0.0</td>\n",
       "      <td>...</td>\n",
       "      <td>1.0</td>\n",
       "      <td>0.0</td>\n",
       "      <td>0.0</td>\n",
       "      <td>0.0</td>\n",
       "      <td>0.0</td>\n",
       "      <td>0.0</td>\n",
       "      <td>0.0</td>\n",
       "      <td>0.0</td>\n",
       "      <td>0.0</td>\n",
       "      <td>0.0</td>\n",
       "    </tr>\n",
       "    <tr>\n",
       "      <th>4</th>\n",
       "      <td>0.605829</td>\n",
       "      <td>0.951186</td>\n",
       "      <td>2.158813e-05</td>\n",
       "      <td>0.000003</td>\n",
       "      <td>0.000002</td>\n",
       "      <td>0.0</td>\n",
       "      <td>0.000000e+00</td>\n",
       "      <td>0.000000e+00</td>\n",
       "      <td>0.0</td>\n",
       "      <td>0.0</td>\n",
       "      <td>...</td>\n",
       "      <td>0.0</td>\n",
       "      <td>0.0</td>\n",
       "      <td>0.0</td>\n",
       "      <td>0.0</td>\n",
       "      <td>0.0</td>\n",
       "      <td>0.0</td>\n",
       "      <td>0.0</td>\n",
       "      <td>0.0</td>\n",
       "      <td>0.0</td>\n",
       "      <td>0.0</td>\n",
       "    </tr>\n",
       "  </tbody>\n",
       "</table>\n",
       "<p>5 rows × 47 columns</p>\n",
       "</div>"
      ],
      "text/plain": [
       "   id.orig_p  id.resp_p      duration  orig_bytes  resp_bytes  missed_bytes  \\\n",
       "0   0.279911   0.806729  1.268386e-11    0.000000    0.000000           0.0   \n",
       "1   0.668238   0.951186  2.158813e-05    0.000003    0.000002           0.0   \n",
       "2   0.279911   0.806729  1.268386e-11    0.000000    0.000000           0.0   \n",
       "3   0.279911   0.806729  1.268386e-11    0.000000    0.000000           0.0   \n",
       "4   0.605829   0.951186  2.158813e-05    0.000003    0.000002           0.0   \n",
       "\n",
       "      orig_pkts  orig_ip_bytes  resp_pkts  resp_ip_bytes  ...  history_S  \\\n",
       "0  3.029048e-08   4.177997e-08        0.0            0.0  ...        1.0   \n",
       "1  0.000000e+00   0.000000e+00        0.0            0.0  ...        0.0   \n",
       "2  3.029048e-08   4.177997e-08        0.0            0.0  ...        1.0   \n",
       "3  3.029048e-08   4.177997e-08        0.0            0.0  ...        1.0   \n",
       "4  0.000000e+00   0.000000e+00        0.0            0.0  ...        0.0   \n",
       "\n",
       "   history_ShADadfF  history_ShADafF  history_ShAFf  history_ShAdDaFf  \\\n",
       "0               0.0              0.0            0.0               0.0   \n",
       "1               0.0              0.0            0.0               0.0   \n",
       "2               0.0              0.0            0.0               0.0   \n",
       "3               0.0              0.0            0.0               0.0   \n",
       "4               0.0              0.0            0.0               0.0   \n",
       "\n",
       "   history_ShAdDaf  history_ShAdDafF  history_ShAdfDr  history_Sr  history_^c  \n",
       "0              0.0               0.0              0.0         0.0         0.0  \n",
       "1              0.0               0.0              0.0         0.0         0.0  \n",
       "2              0.0               0.0              0.0         0.0         0.0  \n",
       "3              0.0               0.0              0.0         0.0         0.0  \n",
       "4              0.0               0.0              0.0         0.0         0.0  \n",
       "\n",
       "[5 rows x 47 columns]"
      ]
     },
     "execution_count": 7,
     "metadata": {},
     "output_type": "execute_result"
    }
   ],
   "source": [
    "iot_data.head()"
   ]
  },
  {
   "cell_type": "markdown",
   "id": "c311dc09",
   "metadata": {
    "papermill": {
     "duration": 0.012086,
     "end_time": "2024-06-22T00:25:12.189982",
     "exception": false,
     "start_time": "2024-06-22T00:25:12.177896",
     "status": "completed"
    },
    "tags": []
   },
   "source": [
    "### 1. Chia tập dữ liệu"
   ]
  },
  {
   "cell_type": "code",
   "execution_count": 8,
   "id": "11f438a0",
   "metadata": {
    "execution": {
     "iopub.execute_input": "2024-06-22T00:25:12.217550Z",
     "iopub.status.busy": "2024-06-22T00:25:12.217148Z",
     "iopub.status.idle": "2024-06-22T00:25:12.224850Z",
     "shell.execute_reply": "2024-06-22T00:25:12.223691Z"
    },
    "papermill": {
     "duration": 0.023941,
     "end_time": "2024-06-22T00:25:12.227319",
     "exception": false,
     "start_time": "2024-06-22T00:25:12.203378",
     "status": "completed"
    },
    "tags": []
   },
   "outputs": [
    {
     "data": {
      "text/plain": [
       "(1596000.0, 684000.0)"
      ]
     },
     "execution_count": 8,
     "metadata": {},
     "output_type": "execute_result"
    }
   ],
   "source": [
    "len(iot_data) * .7, len(iot_data) * .3\n"
   ]
  },
  {
   "cell_type": "code",
   "execution_count": 9,
   "id": "ff3d9fc9",
   "metadata": {
    "execution": {
     "iopub.execute_input": "2024-06-22T00:25:12.255118Z",
     "iopub.status.busy": "2024-06-22T00:25:12.254684Z",
     "iopub.status.idle": "2024-06-22T00:25:14.268726Z",
     "shell.execute_reply": "2024-06-22T00:25:14.267164Z"
    },
    "papermill": {
     "duration": 2.031147,
     "end_time": "2024-06-22T00:25:14.271471",
     "exception": false,
     "start_time": "2024-06-22T00:25:12.240324",
     "status": "completed"
    },
    "tags": []
   },
   "outputs": [],
   "source": [
    "#from imblearn.under_sampling import NearMiss\n",
    "\n",
    "# Tách cột train và test\n",
    "X, y = iot_data.drop(columns=['label']), iot_data.label\n",
    "\n",
    "# Tạo đối tượng NearMiss\n",
    "#nm = NearMiss(version=1) # Bạn có thể chọn version=1, 2 hoặc 3\n",
    "\n",
    "# Thực hiện undersampling\n",
    "#X_resampled, y_resampled = nm.fit_resample(X, y)\n",
    "\n",
    "X_train, X_test, y_train, y_test = train_test_split(X, y, test_size=0.3, random_state=42)"
   ]
  },
  {
   "cell_type": "code",
   "execution_count": 10,
   "id": "9ca71ad8",
   "metadata": {
    "execution": {
     "iopub.execute_input": "2024-06-22T00:25:14.298195Z",
     "iopub.status.busy": "2024-06-22T00:25:14.297772Z",
     "iopub.status.idle": "2024-06-22T00:25:14.305966Z",
     "shell.execute_reply": "2024-06-22T00:25:14.304745Z"
    },
    "papermill": {
     "duration": 0.024429,
     "end_time": "2024-06-22T00:25:14.308437",
     "exception": false,
     "start_time": "2024-06-22T00:25:14.284008",
     "status": "completed"
    },
    "tags": []
   },
   "outputs": [
    {
     "data": {
      "text/plain": [
       "((1596000, 46), (684000, 46))"
      ]
     },
     "execution_count": 10,
     "metadata": {},
     "output_type": "execute_result"
    }
   ],
   "source": [
    "X_train.shape, X_test.shape\n"
   ]
  },
  {
   "cell_type": "code",
   "execution_count": 13,
   "id": "e2ca2a6e",
   "metadata": {
    "execution": {
     "iopub.execute_input": "2024-06-22T00:25:14.475424Z",
     "iopub.status.busy": "2024-06-22T00:25:14.475019Z",
     "iopub.status.idle": "2024-06-22T00:25:14.512249Z",
     "shell.execute_reply": "2024-06-22T00:25:14.510591Z"
    },
    "papermill": {
     "duration": 0.056345,
     "end_time": "2024-06-22T00:25:14.515511",
     "exception": false,
     "start_time": "2024-06-22T00:25:14.459166",
     "status": "completed"
    },
    "tags": []
   },
   "outputs": [
    {
     "data": {
      "text/html": [
       "<div>\n",
       "<style scoped>\n",
       "    .dataframe tbody tr th:only-of-type {\n",
       "        vertical-align: middle;\n",
       "    }\n",
       "\n",
       "    .dataframe tbody tr th {\n",
       "        vertical-align: top;\n",
       "    }\n",
       "\n",
       "    .dataframe thead th {\n",
       "        text-align: right;\n",
       "    }\n",
       "</style>\n",
       "<table border=\"1\" class=\"dataframe\">\n",
       "  <thead>\n",
       "    <tr style=\"text-align: right;\">\n",
       "      <th></th>\n",
       "      <th>id.orig_p</th>\n",
       "      <th>id.resp_p</th>\n",
       "      <th>duration</th>\n",
       "      <th>orig_bytes</th>\n",
       "      <th>resp_bytes</th>\n",
       "      <th>missed_bytes</th>\n",
       "      <th>orig_pkts</th>\n",
       "      <th>orig_ip_bytes</th>\n",
       "      <th>resp_pkts</th>\n",
       "      <th>resp_ip_bytes</th>\n",
       "      <th>...</th>\n",
       "      <th>history_S</th>\n",
       "      <th>history_ShADadfF</th>\n",
       "      <th>history_ShADafF</th>\n",
       "      <th>history_ShAFf</th>\n",
       "      <th>history_ShAdDaFf</th>\n",
       "      <th>history_ShAdDaf</th>\n",
       "      <th>history_ShAdDafF</th>\n",
       "      <th>history_ShAdfDr</th>\n",
       "      <th>history_Sr</th>\n",
       "      <th>history_^c</th>\n",
       "    </tr>\n",
       "  </thead>\n",
       "  <tbody>\n",
       "    <tr>\n",
       "      <th>0</th>\n",
       "      <td>0.279911</td>\n",
       "      <td>0.806729</td>\n",
       "      <td>1.268386e-11</td>\n",
       "      <td>0.000000</td>\n",
       "      <td>0.000000</td>\n",
       "      <td>0.0</td>\n",
       "      <td>3.029048e-08</td>\n",
       "      <td>4.177997e-08</td>\n",
       "      <td>0.0</td>\n",
       "      <td>0.0</td>\n",
       "      <td>...</td>\n",
       "      <td>1.0</td>\n",
       "      <td>0.0</td>\n",
       "      <td>0.0</td>\n",
       "      <td>0.0</td>\n",
       "      <td>0.0</td>\n",
       "      <td>0.0</td>\n",
       "      <td>0.0</td>\n",
       "      <td>0.0</td>\n",
       "      <td>0.0</td>\n",
       "      <td>0.0</td>\n",
       "    </tr>\n",
       "    <tr>\n",
       "      <th>1</th>\n",
       "      <td>0.668238</td>\n",
       "      <td>0.951186</td>\n",
       "      <td>2.158813e-05</td>\n",
       "      <td>0.000003</td>\n",
       "      <td>0.000002</td>\n",
       "      <td>0.0</td>\n",
       "      <td>0.000000e+00</td>\n",
       "      <td>0.000000e+00</td>\n",
       "      <td>0.0</td>\n",
       "      <td>0.0</td>\n",
       "      <td>...</td>\n",
       "      <td>0.0</td>\n",
       "      <td>0.0</td>\n",
       "      <td>0.0</td>\n",
       "      <td>0.0</td>\n",
       "      <td>0.0</td>\n",
       "      <td>0.0</td>\n",
       "      <td>0.0</td>\n",
       "      <td>0.0</td>\n",
       "      <td>0.0</td>\n",
       "      <td>0.0</td>\n",
       "    </tr>\n",
       "    <tr>\n",
       "      <th>2</th>\n",
       "      <td>0.279911</td>\n",
       "      <td>0.806729</td>\n",
       "      <td>1.268386e-11</td>\n",
       "      <td>0.000000</td>\n",
       "      <td>0.000000</td>\n",
       "      <td>0.0</td>\n",
       "      <td>3.029048e-08</td>\n",
       "      <td>4.177997e-08</td>\n",
       "      <td>0.0</td>\n",
       "      <td>0.0</td>\n",
       "      <td>...</td>\n",
       "      <td>1.0</td>\n",
       "      <td>0.0</td>\n",
       "      <td>0.0</td>\n",
       "      <td>0.0</td>\n",
       "      <td>0.0</td>\n",
       "      <td>0.0</td>\n",
       "      <td>0.0</td>\n",
       "      <td>0.0</td>\n",
       "      <td>0.0</td>\n",
       "      <td>0.0</td>\n",
       "    </tr>\n",
       "    <tr>\n",
       "      <th>3</th>\n",
       "      <td>0.279911</td>\n",
       "      <td>0.806729</td>\n",
       "      <td>1.268386e-11</td>\n",
       "      <td>0.000000</td>\n",
       "      <td>0.000000</td>\n",
       "      <td>0.0</td>\n",
       "      <td>3.029048e-08</td>\n",
       "      <td>4.177997e-08</td>\n",
       "      <td>0.0</td>\n",
       "      <td>0.0</td>\n",
       "      <td>...</td>\n",
       "      <td>1.0</td>\n",
       "      <td>0.0</td>\n",
       "      <td>0.0</td>\n",
       "      <td>0.0</td>\n",
       "      <td>0.0</td>\n",
       "      <td>0.0</td>\n",
       "      <td>0.0</td>\n",
       "      <td>0.0</td>\n",
       "      <td>0.0</td>\n",
       "      <td>0.0</td>\n",
       "    </tr>\n",
       "    <tr>\n",
       "      <th>4</th>\n",
       "      <td>0.605829</td>\n",
       "      <td>0.951186</td>\n",
       "      <td>2.158813e-05</td>\n",
       "      <td>0.000003</td>\n",
       "      <td>0.000002</td>\n",
       "      <td>0.0</td>\n",
       "      <td>0.000000e+00</td>\n",
       "      <td>0.000000e+00</td>\n",
       "      <td>0.0</td>\n",
       "      <td>0.0</td>\n",
       "      <td>...</td>\n",
       "      <td>0.0</td>\n",
       "      <td>0.0</td>\n",
       "      <td>0.0</td>\n",
       "      <td>0.0</td>\n",
       "      <td>0.0</td>\n",
       "      <td>0.0</td>\n",
       "      <td>0.0</td>\n",
       "      <td>0.0</td>\n",
       "      <td>0.0</td>\n",
       "      <td>0.0</td>\n",
       "    </tr>\n",
       "  </tbody>\n",
       "</table>\n",
       "<p>5 rows × 47 columns</p>\n",
       "</div>"
      ],
      "text/plain": [
       "   id.orig_p  id.resp_p      duration  orig_bytes  resp_bytes  missed_bytes  \\\n",
       "0   0.279911   0.806729  1.268386e-11    0.000000    0.000000           0.0   \n",
       "1   0.668238   0.951186  2.158813e-05    0.000003    0.000002           0.0   \n",
       "2   0.279911   0.806729  1.268386e-11    0.000000    0.000000           0.0   \n",
       "3   0.279911   0.806729  1.268386e-11    0.000000    0.000000           0.0   \n",
       "4   0.605829   0.951186  2.158813e-05    0.000003    0.000002           0.0   \n",
       "\n",
       "      orig_pkts  orig_ip_bytes  resp_pkts  resp_ip_bytes  ...  history_S  \\\n",
       "0  3.029048e-08   4.177997e-08        0.0            0.0  ...        1.0   \n",
       "1  0.000000e+00   0.000000e+00        0.0            0.0  ...        0.0   \n",
       "2  3.029048e-08   4.177997e-08        0.0            0.0  ...        1.0   \n",
       "3  3.029048e-08   4.177997e-08        0.0            0.0  ...        1.0   \n",
       "4  0.000000e+00   0.000000e+00        0.0            0.0  ...        0.0   \n",
       "\n",
       "   history_ShADadfF  history_ShADafF  history_ShAFf  history_ShAdDaFf  \\\n",
       "0               0.0              0.0            0.0               0.0   \n",
       "1               0.0              0.0            0.0               0.0   \n",
       "2               0.0              0.0            0.0               0.0   \n",
       "3               0.0              0.0            0.0               0.0   \n",
       "4               0.0              0.0            0.0               0.0   \n",
       "\n",
       "   history_ShAdDaf  history_ShAdDafF  history_ShAdfDr  history_Sr  history_^c  \n",
       "0              0.0               0.0              0.0         0.0         0.0  \n",
       "1              0.0               0.0              0.0         0.0         0.0  \n",
       "2              0.0               0.0              0.0         0.0         0.0  \n",
       "3              0.0               0.0              0.0         0.0         0.0  \n",
       "4              0.0               0.0              0.0         0.0         0.0  \n",
       "\n",
       "[5 rows x 47 columns]"
      ]
     },
     "execution_count": 13,
     "metadata": {},
     "output_type": "execute_result"
    }
   ],
   "source": [
    "iot_data.head()"
   ]
  },
  {
   "cell_type": "markdown",
   "id": "28f1ec6e",
   "metadata": {
    "papermill": {
     "duration": 0.012933,
     "end_time": "2024-06-22T00:25:14.940176",
     "exception": false,
     "start_time": "2024-06-22T00:25:14.927243",
     "status": "completed"
    },
    "tags": []
   },
   "source": [
    "### 3. Training"
   ]
  },
  {
   "cell_type": "code",
   "execution_count": 16,
   "id": "e6f68611",
   "metadata": {
    "execution": {
     "iopub.execute_input": "2024-06-22T00:25:14.968824Z",
     "iopub.status.busy": "2024-06-22T00:25:14.968320Z",
     "iopub.status.idle": "2024-06-22T00:25:14.976171Z",
     "shell.execute_reply": "2024-06-22T00:25:14.974929Z"
    },
    "papermill": {
     "duration": 0.025651,
     "end_time": "2024-06-22T00:25:14.979085",
     "exception": false,
     "start_time": "2024-06-22T00:25:14.953434",
     "status": "completed"
    },
    "tags": []
   },
   "outputs": [
    {
     "data": {
      "text/plain": [
       "\"label_counts = iot_data_df_dup['label'].value_counts()\\n\\nprint(label_counts)\""
      ]
     },
     "execution_count": 16,
     "metadata": {},
     "output_type": "execute_result"
    }
   ],
   "source": [
    "'''label_counts = iot_data_df_dup['label'].value_counts()\n",
    "\n",
    "print(label_counts)'''"
   ]
  },
  {
   "cell_type": "markdown",
   "id": "f15c22b6",
   "metadata": {
    "papermill": {
     "duration": 0.013906,
     "end_time": "2024-06-22T00:25:15.007008",
     "exception": false,
     "start_time": "2024-06-22T00:25:14.993102",
     "status": "completed"
    },
    "tags": []
   },
   "source": [
    "#### 3.1. KNN"
   ]
  },
  {
   "cell_type": "code",
   "execution_count": 17,
   "id": "3cb021c3",
   "metadata": {
    "execution": {
     "iopub.execute_input": "2024-06-22T00:25:15.096233Z",
     "iopub.status.busy": "2024-06-22T00:25:15.095821Z",
     "iopub.status.idle": "2024-06-22T03:18:33.319967Z",
     "shell.execute_reply": "2024-06-22T03:18:33.318118Z"
    },
    "papermill": {
     "duration": 10398.303072,
     "end_time": "2024-06-22T03:18:33.323536",
     "exception": false,
     "start_time": "2024-06-22T00:25:15.020464",
     "status": "completed"
    },
    "tags": []
   },
   "outputs": [
    {
     "name": "stdout",
     "output_type": "stream",
     "text": [
      "TRAIN Set Classification Report:\n",
      "              precision    recall  f1-score   support\n",
      "\n",
      "         0.0       0.91      0.99      0.95    385030\n",
      "         1.0       1.00      1.00      1.00    266078\n",
      "         2.0       1.00      1.00      1.00    455053\n",
      "         3.0       0.99      0.92      0.96    489839\n",
      "\n",
      "    accuracy                           0.97   1596000\n",
      "   macro avg       0.98      0.98      0.98   1596000\n",
      "weighted avg       0.98      0.97      0.97   1596000\n",
      "\n",
      "TEST Set Classification Report:\n",
      "              precision    recall  f1-score   support\n",
      "\n",
      "         0.0       0.87      0.98      0.92    164970\n",
      "         1.0       1.00      1.00      1.00    113922\n",
      "         2.0       1.00      1.00      1.00    194947\n",
      "         3.0       0.98      0.89      0.93    210161\n",
      "\n",
      "    accuracy                           0.96    684000\n",
      "   macro avg       0.96      0.97      0.96    684000\n",
      "weighted avg       0.96      0.96      0.96    684000\n",
      "\n",
      "\n",
      "Parameters Used: \n",
      "\n",
      " {'memory': None, 'steps': [('scaler', StandardScaler()), ('clf', KNeighborsClassifier())], 'verbose': False, 'scaler': StandardScaler(), 'clf': KNeighborsClassifier(), 'scaler__copy': True, 'scaler__with_mean': True, 'scaler__with_std': True, 'clf__algorithm': 'auto', 'clf__leaf_size': 30, 'clf__metric': 'minkowski', 'clf__metric_params': None, 'clf__n_jobs': None, 'clf__n_neighbors': 5, 'clf__p': 2, 'clf__weights': 'uniform'}\n"
     ]
    },
    {
     "data": {
      "image/png": "[encoded data removed]",
      "text/plain": [
       "<Figure size 640x480 with 2 Axes>"
      ]
     },
     "metadata": {},
     "output_type": "display_data"
    },
    {
     "name": "stdout",
     "output_type": "stream",
     "text": [
      "Saved to: knn.joblib\n",
      "time cost:  10398.216326236725 seconds\n"
     ]
    }
   ],
   "source": [
    "start = time.time()\n",
    "algorithms(X_train=X_train, y_train=y_train, X_test=X_test, y_test=y_test,\n",
    "                                    classifier=KNeighborsClassifier(),\n",
    "                                    scaler=True,\n",
    "                                    model_filename='knn.joblib')\n",
    "end = time.time()\n",
    "print('time cost: ', end - start, 'seconds')"
   ]
  },
  {
   "cell_type": "markdown",
   "id": "5af1d27f",
   "metadata": {
    "papermill": {
     "duration": 0.015124,
     "end_time": "2024-06-22T03:18:33.389214",
     "exception": false,
     "start_time": "2024-06-22T03:18:33.374090",
     "status": "completed"
    },
    "tags": []
   },
   "source": [
    "#### 3.2. Des Tree"
   ]
  },
  {
   "cell_type": "code",
   "execution_count": 18,
   "id": "7c4e579e",
   "metadata": {
    "execution": {
     "iopub.execute_input": "2024-06-22T03:18:33.422706Z",
     "iopub.status.busy": "2024-06-22T03:18:33.421632Z",
     "iopub.status.idle": "2024-06-22T03:18:52.903637Z",
     "shell.execute_reply": "2024-06-22T03:18:52.902166Z"
    },
    "papermill": {
     "duration": 19.502199,
     "end_time": "2024-06-22T03:18:52.906482",
     "exception": false,
     "start_time": "2024-06-22T03:18:33.404283",
     "status": "completed"
    },
    "tags": []
   },
   "outputs": [
    {
     "name": "stdout",
     "output_type": "stream",
     "text": [
      "TRAIN Set Classification Report:\n",
      "              precision    recall  f1-score   support\n",
      "\n",
      "         0.0       0.92      0.99      0.96    385030\n",
      "         1.0       1.00      1.00      1.00    266078\n",
      "         2.0       1.00      1.00      1.00    455053\n",
      "         3.0       1.00      0.93      0.96    489839\n",
      "\n",
      "    accuracy                           0.98   1596000\n",
      "   macro avg       0.98      0.98      0.98   1596000\n",
      "weighted avg       0.98      0.98      0.98   1596000\n",
      "\n",
      "TEST Set Classification Report:\n",
      "              precision    recall  f1-score   support\n",
      "\n",
      "         0.0       0.89      0.96      0.93    164970\n",
      "         1.0       1.00      1.00      1.00    113922\n",
      "         2.0       1.00      1.00      1.00    194947\n",
      "         3.0       0.97      0.91      0.94    210161\n",
      "\n",
      "    accuracy                           0.96    684000\n",
      "   macro avg       0.97      0.97      0.97    684000\n",
      "weighted avg       0.97      0.96      0.96    684000\n",
      "\n",
      "\n",
      "Parameters Used: \n",
      "\n",
      " {'memory': None, 'steps': [('clf', DecisionTreeClassifier())], 'verbose': False, 'clf': DecisionTreeClassifier(), 'clf__ccp_alpha': 0.0, 'clf__class_weight': None, 'clf__criterion': 'gini', 'clf__max_depth': None, 'clf__max_features': None, 'clf__max_leaf_nodes': None, 'clf__min_impurity_decrease': 0.0, 'clf__min_samples_leaf': 1, 'clf__min_samples_split': 2, 'clf__min_weight_fraction_leaf': 0.0, 'clf__random_state': None, 'clf__splitter': 'best'}\n"
     ]
    },
    {
     "data": {
      "image/png": "[encoded data removed]",
      "text/plain": [
       "<Figure size 640x480 with 2 Axes>"
      ]
     },
     "metadata": {},
     "output_type": "display_data"
    },
    {
     "name": "stdout",
     "output_type": "stream",
     "text": [
      "Saved to: des_tree.joblib\n",
      "time cost:  19.473457098007202 seconds\n"
     ]
    }
   ],
   "source": [
    "start = time.time()\n",
    "algorithms(X_train=X_train, y_train=y_train, X_test=X_test, y_test=y_test,\n",
    "                                    classifier=DecisionTreeClassifier(min_samples_split=2, min_samples_leaf=1, criterion='gini'),\n",
    "                                    model_filename='des_tree.joblib')\n",
    "end = time.time()\n",
    "print('time cost: ', end - start, 'seconds')"
   ]
  },
  {
   "cell_type": "markdown",
   "id": "5339e05f",
   "metadata": {
    "papermill": {
     "duration": 0.015841,
     "end_time": "2024-06-22T03:18:52.971428",
     "exception": false,
     "start_time": "2024-06-22T03:18:52.955587",
     "status": "completed"
    },
    "tags": []
   },
   "source": [
    "#### 3.3. Random Forest"
   ]
  },
  {
   "cell_type": "code",
   "execution_count": 19,
   "id": "bd4ced19",
   "metadata": {
    "execution": {
     "iopub.execute_input": "2024-06-22T03:18:53.004987Z",
     "iopub.status.busy": "2024-06-22T03:18:53.004532Z",
     "iopub.status.idle": "2024-06-22T03:20:55.881746Z",
     "shell.execute_reply": "2024-06-22T03:20:55.880314Z"
    },
    "papermill": {
     "duration": 122.897598,
     "end_time": "2024-06-22T03:20:55.884470",
     "exception": false,
     "start_time": "2024-06-22T03:18:52.986872",
     "status": "completed"
    },
    "tags": []
   },
   "outputs": [
    {
     "name": "stdout",
     "output_type": "stream",
     "text": [
      "TRAIN Set Classification Report:\n",
      "              precision    recall  f1-score   support\n",
      "\n",
      "         0.0       0.90      1.00      0.95    385030\n",
      "         1.0       1.00      1.00      1.00    266078\n",
      "         2.0       1.00      1.00      1.00    455053\n",
      "         3.0       1.00      0.91      0.95    489839\n",
      "\n",
      "    accuracy                           0.97   1596000\n",
      "   macro avg       0.97      0.98      0.97   1596000\n",
      "weighted avg       0.98      0.97      0.97   1596000\n",
      "\n",
      "TEST Set Classification Report:\n",
      "              precision    recall  f1-score   support\n",
      "\n",
      "         0.0       0.89      1.00      0.94    164970\n",
      "         1.0       1.00      1.00      1.00    113922\n",
      "         2.0       1.00      1.00      1.00    194947\n",
      "         3.0       1.00      0.90      0.95    210161\n",
      "\n",
      "    accuracy                           0.97    684000\n",
      "   macro avg       0.97      0.97      0.97    684000\n",
      "weighted avg       0.97      0.97      0.97    684000\n",
      "\n",
      "\n",
      "Parameters Used: \n",
      "\n",
      " {'memory': None, 'steps': [('clf', RandomForestClassifier(n_jobs=-1))], 'verbose': False, 'clf': RandomForestClassifier(n_jobs=-1), 'clf__bootstrap': True, 'clf__ccp_alpha': 0.0, 'clf__class_weight': None, 'clf__criterion': 'gini', 'clf__max_depth': None, 'clf__max_features': 'sqrt', 'clf__max_leaf_nodes': None, 'clf__max_samples': None, 'clf__min_impurity_decrease': 0.0, 'clf__min_samples_leaf': 1, 'clf__min_samples_split': 2, 'clf__min_weight_fraction_leaf': 0.0, 'clf__n_estimators': 100, 'clf__n_jobs': -1, 'clf__oob_score': False, 'clf__random_state': None, 'clf__verbose': 0, 'clf__warm_start': False}\n"
     ]
    },
    {
     "data": {
      "image/png": "[encoded data removed]",
      "text/plain": [
       "<Figure size 640x480 with 2 Axes>"
      ]
     },
     "metadata": {},
     "output_type": "display_data"
    },
    {
     "name": "stdout",
     "output_type": "stream",
     "text": [
      "Saved to: random_forest.joblib\n",
      "time cost:  122.8709168434143 seconds\n"
     ]
    }
   ],
   "source": [
    "start = time.time()\n",
    "algorithms(X_train=X_train, y_train=y_train, X_test=X_test, y_test=y_test,\n",
    "                                    classifier=RandomForestClassifier(n_jobs=-1),\n",
    "                                    model_filename='random_forest.joblib')\n",
    "end = time.time()\n",
    "print('time cost: ', end - start, 'seconds')"
   ]
  },
  {
   "cell_type": "markdown",
   "id": "df317e08",
   "metadata": {
    "papermill": {
     "duration": 0.017361,
     "end_time": "2024-06-22T03:20:55.951755",
     "exception": false,
     "start_time": "2024-06-22T03:20:55.934394",
     "status": "completed"
    },
    "tags": []
   },
   "source": [
    "#### 3.4. SVM"
   ]
  },
  {
   "cell_type": "code",
   "execution_count": 20,
   "id": "e0d8d7bc",
   "metadata": {
    "execution": {
     "iopub.execute_input": "2024-06-22T03:20:55.988505Z",
     "iopub.status.busy": "2024-06-22T03:20:55.988109Z",
     "iopub.status.idle": "2024-06-22T05:14:46.760802Z",
     "shell.execute_reply": "2024-06-22T05:14:46.759139Z"
    },
    "papermill": {
     "duration": 6830.793908,
     "end_time": "2024-06-22T05:14:46.763400",
     "exception": false,
     "start_time": "2024-06-22T03:20:55.969492",
     "status": "completed"
    },
    "tags": []
   },
   "outputs": [
    {
     "name": "stderr",
     "output_type": "stream",
     "text": [
      "/opt/conda/lib/python3.10/site-packages/sklearn/svm/_base.py:1244: ConvergenceWarning: Liblinear failed to converge, increase the number of iterations.\n",
      "  warnings.warn(\n"
     ]
    },
    {
     "name": "stdout",
     "output_type": "stream",
     "text": [
      "TRAIN Set Classification Report:\n",
      "              precision    recall  f1-score   support\n",
      "\n",
      "         0.0       0.83      0.36      0.50    385030\n",
      "         1.0       1.00      1.00      1.00    266078\n",
      "         2.0       0.87      0.90      0.89    455053\n",
      "         3.0       0.59      0.83      0.69    489839\n",
      "\n",
      "    accuracy                           0.77   1596000\n",
      "   macro avg       0.82      0.77      0.77   1596000\n",
      "weighted avg       0.79      0.77      0.75   1596000\n",
      "\n",
      "TEST Set Classification Report:\n",
      "              precision    recall  f1-score   support\n",
      "\n",
      "         0.0       0.82      0.36      0.50    164970\n",
      "         1.0       1.00      1.00      1.00    113922\n",
      "         2.0       0.87      0.90      0.89    194947\n",
      "         3.0       0.59      0.83      0.69    210161\n",
      "\n",
      "    accuracy                           0.77    684000\n",
      "   macro avg       0.82      0.77      0.77    684000\n",
      "weighted avg       0.79      0.77      0.75    684000\n",
      "\n",
      "\n",
      "Parameters Used: \n",
      "\n",
      " {'memory': None, 'steps': [('scaler', StandardScaler()), ('clf', LinearSVC(dual=False))], 'verbose': False, 'scaler': StandardScaler(), 'clf': LinearSVC(dual=False), 'scaler__copy': True, 'scaler__with_mean': True, 'scaler__with_std': True, 'clf__C': 1.0, 'clf__class_weight': None, 'clf__dual': False, 'clf__fit_intercept': True, 'clf__intercept_scaling': 1, 'clf__loss': 'squared_hinge', 'clf__max_iter': 1000, 'clf__multi_class': 'ovr', 'clf__penalty': 'l2', 'clf__random_state': None, 'clf__tol': 0.0001, 'clf__verbose': 0}\n"
     ]
    },
    {
     "data": {
      "image/png": "[encoded data removed]",
      "text/plain": [
       "<Figure size 640x480 with 2 Axes>"
      ]
     },
     "metadata": {},
     "output_type": "display_data"
    },
    {
     "name": "stdout",
     "output_type": "stream",
     "text": [
      "Saved to: svm.joblib\n",
      "time cost:  6830.766277313232 seconds\n"
     ]
    }
   ],
   "source": [
    "start = time.time()\n",
    "algorithms(X_train=X_train, y_train=y_train, X_test=X_test, y_test=y_test,\n",
    "                                    classifier=LinearSVC(dual=False),\n",
    "                                    scaler=True,\n",
    "                                    model_filename='svm.joblib')\n",
    "end = time.time()\n",
    "print('time cost: ', end - start, 'seconds')"
   ]
  },
  {
   "cell_type": "markdown",
   "id": "3317ec22",
   "metadata": {
    "papermill": {
     "duration": 0.016806,
     "end_time": "2024-06-22T05:14:46.833053",
     "exception": false,
     "start_time": "2024-06-22T05:14:46.816247",
     "status": "completed"
    },
    "tags": []
   },
   "source": [
    "#### 3.5. Naive Bayes"
   ]
  },
  {
   "cell_type": "code",
   "execution_count": 21,
   "id": "01fdc2c1",
   "metadata": {
    "execution": {
     "iopub.execute_input": "2024-06-22T05:14:46.870107Z",
     "iopub.status.busy": "2024-06-22T05:14:46.868979Z",
     "iopub.status.idle": "2024-06-22T05:14:58.524089Z",
     "shell.execute_reply": "2024-06-22T05:14:58.522914Z"
    },
    "papermill": {
     "duration": 11.676469,
     "end_time": "2024-06-22T05:14:58.526466",
     "exception": false,
     "start_time": "2024-06-22T05:14:46.849997",
     "status": "completed"
    },
    "tags": []
   },
   "outputs": [
    {
     "name": "stdout",
     "output_type": "stream",
     "text": [
      "TRAIN Set Classification Report:\n",
      "              precision    recall  f1-score   support\n",
      "\n",
      "         0.0       0.99      0.27      0.42    385030\n",
      "         1.0       0.26      1.00      0.41    266078\n",
      "         2.0       1.00      1.00      1.00    455053\n",
      "         3.0       0.96      0.00      0.00    489839\n",
      "\n",
      "    accuracy                           0.52   1596000\n",
      "   macro avg       0.80      0.57      0.46   1596000\n",
      "weighted avg       0.86      0.52      0.45   1596000\n",
      "\n",
      "TEST Set Classification Report:\n",
      "              precision    recall  f1-score   support\n",
      "\n",
      "         0.0       0.99      0.27      0.42    164970\n",
      "         1.0       0.26      1.00      0.41    113922\n",
      "         2.0       1.00      1.00      1.00    194947\n",
      "         3.0       0.95      0.00      0.00    210161\n",
      "\n",
      "    accuracy                           0.52    684000\n",
      "   macro avg       0.80      0.57      0.46    684000\n",
      "weighted avg       0.86      0.52      0.45    684000\n",
      "\n",
      "\n",
      "Parameters Used: \n",
      "\n",
      " {'memory': None, 'steps': [('clf', GaussianNB())], 'verbose': False, 'clf': GaussianNB(), 'clf__priors': None, 'clf__var_smoothing': 1e-09}\n"
     ]
    },
    {
     "data": {
      "image/png": "[encoded data removed]",
      "text/plain": [
       "<Figure size 640x480 with 2 Axes>"
      ]
     },
     "metadata": {},
     "output_type": "display_data"
    },
    {
     "name": "stdout",
     "output_type": "stream",
     "text": [
      "Saved to: naive_bayes.joblib\n",
      "time cost:  11.647858381271362 seconds\n"
     ]
    }
   ],
   "source": [
    "start = time.time()\n",
    "algorithms(X_train=X_train, y_train=y_train, X_test=X_test, y_test=y_test, scaler=False, classifier=GaussianNB(), model_filename='naive_bayes.joblib')\n",
    "end = time.time()\n",
    "print('time cost: ', end - start, 'seconds')"
   ]
  },
  {
   "cell_type": "markdown",
   "id": "f2aa4690",
   "metadata": {
    "papermill": {
     "duration": 0.017624,
     "end_time": "2024-06-22T05:14:58.598634",
     "exception": false,
     "start_time": "2024-06-22T05:14:58.581010",
     "status": "completed"
    },
    "tags": []
   },
   "source": [
    "#### 3.6. ANN"
   ]
  },
  {
   "cell_type": "code",
   "execution_count": 22,
   "id": "9ced81a0",
   "metadata": {
    "execution": {
     "iopub.execute_input": "2024-06-22T05:14:58.636113Z",
     "iopub.status.busy": "2024-06-22T05:14:58.635680Z",
     "iopub.status.idle": "2024-06-22T05:48:07.957134Z",
     "shell.execute_reply": "2024-06-22T05:48:07.955884Z"
    },
    "papermill": {
     "duration": 1989.34316,
     "end_time": "2024-06-22T05:48:07.959707",
     "exception": false,
     "start_time": "2024-06-22T05:14:58.616547",
     "status": "completed"
    },
    "tags": []
   },
   "outputs": [
    {
     "name": "stdout",
     "output_type": "stream",
     "text": [
      "TRAIN Set Classification Report:\n",
      "              precision    recall  f1-score   support\n",
      "\n",
      "         0.0       0.77      0.65      0.71    385030\n",
      "         1.0       1.00      1.00      1.00    266078\n",
      "         2.0       1.00      1.00      1.00    455053\n",
      "         3.0       0.76      0.85      0.80    489839\n",
      "\n",
      "    accuracy                           0.87   1596000\n",
      "   macro avg       0.88      0.87      0.88   1596000\n",
      "weighted avg       0.87      0.87      0.87   1596000\n",
      "\n",
      "TEST Set Classification Report:\n",
      "              precision    recall  f1-score   support\n",
      "\n",
      "         0.0       0.77      0.65      0.70    164970\n",
      "         1.0       1.00      1.00      1.00    113922\n",
      "         2.0       1.00      1.00      1.00    194947\n",
      "         3.0       0.75      0.85      0.80    210161\n",
      "\n",
      "    accuracy                           0.87    684000\n",
      "   macro avg       0.88      0.87      0.88    684000\n",
      "weighted avg       0.87      0.87      0.87    684000\n",
      "\n",
      "\n",
      "Parameters Used: \n",
      "\n",
      " {'memory': None, 'steps': [('clf', MLPClassifier())], 'verbose': False, 'clf': MLPClassifier(), 'clf__activation': 'relu', 'clf__alpha': 0.0001, 'clf__batch_size': 'auto', 'clf__beta_1': 0.9, 'clf__beta_2': 0.999, 'clf__early_stopping': False, 'clf__epsilon': 1e-08, 'clf__hidden_layer_sizes': (100,), 'clf__learning_rate': 'constant', 'clf__learning_rate_init': 0.001, 'clf__max_fun': 15000, 'clf__max_iter': 200, 'clf__momentum': 0.9, 'clf__n_iter_no_change': 10, 'clf__nesterovs_momentum': True, 'clf__power_t': 0.5, 'clf__random_state': None, 'clf__shuffle': True, 'clf__solver': 'adam', 'clf__tol': 0.0001, 'clf__validation_fraction': 0.1, 'clf__verbose': False, 'clf__warm_start': False}\n"
     ]
    },
    {
     "data": {
      "image/png": "[encoded data removed]",
      "text/plain": [
       "<Figure size 640x480 with 2 Axes>"
      ]
     },
     "metadata": {},
     "output_type": "display_data"
    },
    {
     "name": "stdout",
     "output_type": "stream",
     "text": [
      "Saved to: ann.joblib\n",
      "time cost:  1989.315259218216 seconds\n"
     ]
    }
   ],
   "source": [
    "start = time.time()\n",
    "algorithms(X_train=X_train, y_train=y_train, X_test=X_test, y_test=y_test,\n",
    "                                    classifier=MLPClassifier(max_iter=200),\n",
    "                                    model_filename='ann.joblib')\n",
    "end = time.time()\n",
    "print('time cost: ', end - start, 'seconds')"
   ]
  },
  {
   "cell_type": "markdown",
   "id": "9d30e92f",
   "metadata": {
    "papermill": {
     "duration": 0.019566,
     "end_time": "2024-06-22T05:48:08.039326",
     "exception": false,
     "start_time": "2024-06-22T05:48:08.019760",
     "status": "completed"
    },
    "tags": []
   },
   "source": [
    "#### 3.7. AdaBoost"
   ]
  },
  {
   "cell_type": "code",
   "execution_count": 23,
   "id": "438dff66",
   "metadata": {
    "execution": {
     "iopub.execute_input": "2024-06-22T05:48:08.079095Z",
     "iopub.status.busy": "2024-06-22T05:48:08.078638Z",
     "iopub.status.idle": "2024-06-22T05:50:08.254843Z",
     "shell.execute_reply": "2024-06-22T05:50:08.253457Z"
    },
    "papermill": {
     "duration": 120.199107,
     "end_time": "2024-06-22T05:50:08.257559",
     "exception": false,
     "start_time": "2024-06-22T05:48:08.058452",
     "status": "completed"
    },
    "tags": []
   },
   "outputs": [
    {
     "name": "stdout",
     "output_type": "stream",
     "text": [
      "TRAIN Set Classification Report:\n",
      "              precision    recall  f1-score   support\n",
      "\n",
      "         0.0       0.71      0.76      0.73    385030\n",
      "         1.0       1.00      1.00      1.00    266078\n",
      "         2.0       1.00      1.00      1.00    455053\n",
      "         3.0       0.80      0.75      0.78    489839\n",
      "\n",
      "    accuracy                           0.87   1596000\n",
      "   macro avg       0.88      0.88      0.88   1596000\n",
      "weighted avg       0.87      0.87      0.87   1596000\n",
      "\n",
      "TEST Set Classification Report:\n",
      "              precision    recall  f1-score   support\n",
      "\n",
      "         0.0       0.70      0.77      0.73    164970\n",
      "         1.0       1.00      1.00      1.00    113922\n",
      "         2.0       1.00      1.00      1.00    194947\n",
      "         3.0       0.80      0.75      0.77    210161\n",
      "\n",
      "    accuracy                           0.87    684000\n",
      "   macro avg       0.88      0.88      0.88    684000\n",
      "weighted avg       0.87      0.87      0.87    684000\n",
      "\n",
      "\n",
      "Parameters Used: \n",
      "\n",
      " {'memory': None, 'steps': [('clf', AdaBoostClassifier(algorithm='SAMME'))], 'verbose': False, 'clf': AdaBoostClassifier(algorithm='SAMME'), 'clf__algorithm': 'SAMME', 'clf__base_estimator': 'deprecated', 'clf__estimator': None, 'clf__learning_rate': 1.0, 'clf__n_estimators': 50, 'clf__random_state': None}\n"
     ]
    },
    {
     "data": {
      "image/png": "[encoded data removed]",
      "text/plain": [
       "<Figure size 640x480 with 2 Axes>"
      ]
     },
     "metadata": {},
     "output_type": "display_data"
    },
    {
     "name": "stdout",
     "output_type": "stream",
     "text": [
      "Saved to: ada.joblib\n",
      "time cost:  120.16968607902527 seconds\n"
     ]
    }
   ],
   "source": [
    "start = time.time()\n",
    "algorithms(X_train=X_train, y_train=y_train, X_test=X_test, y_test=y_test,\n",
    "                                    classifier=AdaBoostClassifier(algorithm='SAMME'),\n",
    "                                    model_filename='ada.joblib')\n",
    "end = time.time()\n",
    "print('time cost: ', end - start, 'seconds')"
   ]
  },
  {
   "cell_type": "markdown",
   "id": "11ac6c7d",
   "metadata": {
    "execution": {
     "iopub.execute_input": "2024-06-20T05:04:34.903772Z",
     "iopub.status.busy": "2024-06-20T05:04:34.902966Z",
     "iopub.status.idle": "2024-06-20T05:04:34.907401Z",
     "shell.execute_reply": "2024-06-20T05:04:34.906380Z",
     "shell.execute_reply.started": "2024-06-20T05:04:34.903739Z"
    },
    "papermill": {
     "duration": 0.020009,
     "end_time": "2024-06-22T05:50:08.339219",
     "exception": false,
     "start_time": "2024-06-22T05:50:08.319210",
     "status": "completed"
    },
    "tags": []
   },
   "source": [
    "#### 3.8. XGBoost"
   ]
  },
  {
   "cell_type": "code",
   "execution_count": 24,
   "id": "4767d83a",
   "metadata": {
    "execution": {
     "iopub.execute_input": "2024-06-22T05:50:08.381597Z",
     "iopub.status.busy": "2024-06-22T05:50:08.381223Z",
     "iopub.status.idle": "2024-06-22T05:51:50.851509Z",
     "shell.execute_reply": "2024-06-22T05:51:50.850208Z"
    },
    "papermill": {
     "duration": 102.494537,
     "end_time": "2024-06-22T05:51:50.854218",
     "exception": false,
     "start_time": "2024-06-22T05:50:08.359681",
     "status": "completed"
    },
    "tags": []
   },
   "outputs": [
    {
     "name": "stdout",
     "output_type": "stream",
     "text": [
      "TRAIN Set Classification Report:\n",
      "              precision    recall  f1-score   support\n",
      "\n",
      "         0.0       0.97      1.00      0.98    385030\n",
      "         1.0       1.00      1.00      1.00    266078\n",
      "         2.0       1.00      1.00      1.00    455053\n",
      "         3.0       1.00      0.98      0.99    489839\n",
      "\n",
      "    accuracy                           0.99   1596000\n",
      "   macro avg       0.99      0.99      0.99   1596000\n",
      "weighted avg       0.99      0.99      0.99   1596000\n",
      "\n",
      "TEST Set Classification Report:\n",
      "              precision    recall  f1-score   support\n",
      "\n",
      "         0.0       0.97      1.00      0.98    164970\n",
      "         1.0       1.00      1.00      1.00    113922\n",
      "         2.0       1.00      1.00      1.00    194947\n",
      "         3.0       1.00      0.98      0.99    210161\n",
      "\n",
      "    accuracy                           0.99    684000\n",
      "   macro avg       0.99      0.99      0.99    684000\n",
      "weighted avg       0.99      0.99      0.99    684000\n",
      "\n",
      "\n",
      "Parameters Used: \n",
      "\n",
      " {'memory': None, 'steps': [('clf', XGBClassifier(base_score=None, booster=None, callbacks=None,\n",
      "              colsample_bylevel=None, colsample_bynode=None,\n",
      "              colsample_bytree=None, device=None, early_stopping_rounds=None,\n",
      "              enable_categorical=False, eval_metric='mlogloss',\n",
      "              feature_types=None, gamma=None, grow_policy=None,\n",
      "              importance_type=None, interaction_constraints=None,\n",
      "              learning_rate=None, max_bin=None, max_cat_threshold=None,\n",
      "              max_cat_to_onehot=None, max_delta_step=None, max_depth=None,\n",
      "              max_leaves=None, min_child_weight=None, missing=nan,\n",
      "              monotone_constraints=None, multi_strategy=None, n_estimators=None,\n",
      "              n_jobs=None, num_parallel_tree=None, objective='multi:softprob', ...))], 'verbose': False, 'clf': XGBClassifier(base_score=None, booster=None, callbacks=None,\n",
      "              colsample_bylevel=None, colsample_bynode=None,\n",
      "              colsample_bytree=None, device=None, early_stopping_rounds=None,\n",
      "              enable_categorical=False, eval_metric='mlogloss',\n",
      "              feature_types=None, gamma=None, grow_policy=None,\n",
      "              importance_type=None, interaction_constraints=None,\n",
      "              learning_rate=None, max_bin=None, max_cat_threshold=None,\n",
      "              max_cat_to_onehot=None, max_delta_step=None, max_depth=None,\n",
      "              max_leaves=None, min_child_weight=None, missing=nan,\n",
      "              monotone_constraints=None, multi_strategy=None, n_estimators=None,\n",
      "              n_jobs=None, num_parallel_tree=None, objective='multi:softprob', ...), 'clf__objective': 'multi:softprob', 'clf__base_score': None, 'clf__booster': None, 'clf__callbacks': None, 'clf__colsample_bylevel': None, 'clf__colsample_bynode': None, 'clf__colsample_bytree': None, 'clf__device': None, 'clf__early_stopping_rounds': None, 'clf__enable_categorical': False, 'clf__eval_metric': 'mlogloss', 'clf__feature_types': None, 'clf__gamma': None, 'clf__grow_policy': None, 'clf__importance_type': None, 'clf__interaction_constraints': None, 'clf__learning_rate': None, 'clf__max_bin': None, 'clf__max_cat_threshold': None, 'clf__max_cat_to_onehot': None, 'clf__max_delta_step': None, 'clf__max_depth': None, 'clf__max_leaves': None, 'clf__min_child_weight': None, 'clf__missing': nan, 'clf__monotone_constraints': None, 'clf__multi_strategy': None, 'clf__n_estimators': None, 'clf__n_jobs': None, 'clf__num_parallel_tree': None, 'clf__random_state': None, 'clf__reg_alpha': None, 'clf__reg_lambda': None, 'clf__sampling_method': None, 'clf__scale_pos_weight': None, 'clf__subsample': None, 'clf__tree_method': None, 'clf__validate_parameters': None, 'clf__verbosity': None, 'clf__use_label_encoder': False}\n"
     ]
    },
    {
     "data": {
      "image/png": "[encoded data removed]",
      "text/plain": [
       "<Figure size 640x480 with 2 Axes>"
      ]
     },
     "metadata": {},
     "output_type": "display_data"
    },
    {
     "name": "stdout",
     "output_type": "stream",
     "text": [
      "Saved to: xgboost.joblib\n",
      "time cost:  102.46431303024292 seconds\n"
     ]
    }
   ],
   "source": [
    "start = time.time()\n",
    "\n",
    "algorithms(X_train=X_train, y_train=y_train, X_test=X_test, y_test=y_test, classifier=xgb.XGBClassifier(use_label_encoder=False, eval_metric='mlogloss'), \n",
    "    model_filename='xgboost.joblib')\n",
    "\n",
    "end = time.time()\n",
    "print('time cost: ', end - start, 'seconds')"
   ]
  },
  {
   "cell_type": "markdown",
   "id": "3f93f17e",
   "metadata": {
    "papermill": {
     "duration": 0.021187,
     "end_time": "2024-06-22T05:51:51.020640",
     "exception": false,
     "start_time": "2024-06-22T05:51:50.999453",
     "status": "completed"
    },
    "tags": []
   },
   "source": [
    "### 4. Tinh chỉnh mô hình"
   ]
  },
  {
   "cell_type": "markdown",
   "id": "c977e039",
   "metadata": {
    "papermill": {
     "duration": 0.021492,
     "end_time": "2024-06-22T05:51:51.062946",
     "exception": false,
     "start_time": "2024-06-22T05:51:51.041454",
     "status": "completed"
    },
    "tags": []
   },
   "source": [
    "Ở phần này ta sẽ sử dụng mô hình cho hiệu suất tốt nhất là XGBoost để thực hiện tinh chỉnh"
   ]
  },
  {
   "cell_type": "code",
   "execution_count": 25,
   "id": "b9d14f98",
   "metadata": {
    "execution": {
     "iopub.execute_input": "2024-06-22T05:51:51.106449Z",
     "iopub.status.busy": "2024-06-22T05:51:51.106049Z",
     "iopub.status.idle": "2024-06-22T05:51:55.914882Z",
     "shell.execute_reply": "2024-06-22T05:51:55.913616Z"
    },
    "papermill": {
     "duration": 4.833691,
     "end_time": "2024-06-22T05:51:55.917535",
     "exception": false,
     "start_time": "2024-06-22T05:51:51.083844",
     "status": "completed"
    },
    "tags": []
   },
   "outputs": [],
   "source": [
    "X, y = iot_data.drop(columns='label'), iot_data.label\n",
    "\n",
    "X_train, X_test, y_train, y_test = train_test_split(X, y, test_size=0.33, random_state=42)"
   ]
  },
  {
   "cell_type": "markdown",
   "id": "980f322e",
   "metadata": {
    "papermill": {
     "duration": 0.021569,
     "end_time": "2024-06-22T05:51:55.960857",
     "exception": false,
     "start_time": "2024-06-22T05:51:55.939288",
     "status": "completed"
    },
    "tags": []
   },
   "source": [
    "#### 4.1. Khai báo không gian tìm kiếm"
   ]
  },
  {
   "cell_type": "code",
   "execution_count": 26,
   "id": "7cf5ad0d",
   "metadata": {
    "execution": {
     "iopub.execute_input": "2024-06-22T05:51:56.004072Z",
     "iopub.status.busy": "2024-06-22T05:51:56.003661Z",
     "iopub.status.idle": "2024-06-22T05:51:56.010168Z",
     "shell.execute_reply": "2024-06-22T05:51:56.008814Z"
    },
    "papermill": {
     "duration": 0.03088,
     "end_time": "2024-06-22T05:51:56.012553",
     "exception": false,
     "start_time": "2024-06-22T05:51:55.981673",
     "status": "completed"
    },
    "tags": []
   },
   "outputs": [],
   "source": [
    "xgb_model = xgb.XGBClassifier()\n",
    "\n",
    "param_dist = {\n",
    "    'learning_rate': [0.01, 0.1, 0.3],\n",
    "    'max_depth': [3, 5, 7],\n",
    "    'min_child_weight': [1, 3, 5],\n",
    "    'gamma': [0, 0.1, 0.2],\n",
    "    'subsample': [0.8, 0.9, 1.0],\n",
    "    'colsample_bytree': [0.8, 0.9, 1.0],\n",
    "    'n_estimators': [50, 100, 200]\n",
    "}"
   ]
  },
  {
   "cell_type": "markdown",
   "id": "c762e543",
   "metadata": {
    "papermill": {
     "duration": 0.021094,
     "end_time": "2024-06-22T05:51:56.056099",
     "exception": false,
     "start_time": "2024-06-22T05:51:56.035005",
     "status": "completed"
    },
    "tags": []
   },
   "source": [
    "#### 4.2. Tìm kiếm tham số ngẫu nhiên"
   ]
  },
  {
   "cell_type": "markdown",
   "id": "f0448b6f",
   "metadata": {
    "papermill": {
     "duration": 0.02036,
     "end_time": "2024-06-22T05:51:56.098796",
     "exception": false,
     "start_time": "2024-06-22T05:51:56.078436",
     "status": "completed"
    },
    "tags": []
   },
   "source": [
    "- ```estimator```: Mô hình XGBoost.\n",
    "- ```param_distributions```: Không gian tìm kiếm siêu tham số.\n",
    "- ```n_iter```: Số lần lặp tìm kiếm ngẫu nhiên (ở đây là 10).\n",
    "- ```scoring```: Chỉ số đánh giá (ở đây là F1-score trung bình macro).\n",
    "- ```cv```: Số fold cross-validation (ở đây là 5).\n",
    "- ```n_jobs```: Số lượng CPU sử dụng (-1 là sử dụng tất cả).\n",
    "- ```verbose```: Mức độ hiển thị thông tin trong quá trình tìm kiếm."
   ]
  },
  {
   "cell_type": "code",
   "execution_count": 27,
   "id": "2664ef33",
   "metadata": {
    "execution": {
     "iopub.execute_input": "2024-06-22T05:51:56.143902Z",
     "iopub.status.busy": "2024-06-22T05:51:56.142887Z",
     "iopub.status.idle": "2024-06-22T05:51:56.148839Z",
     "shell.execute_reply": "2024-06-22T05:51:56.147795Z"
    },
    "papermill": {
     "duration": 0.030766,
     "end_time": "2024-06-22T05:51:56.151209",
     "exception": false,
     "start_time": "2024-06-22T05:51:56.120443",
     "status": "completed"
    },
    "tags": []
   },
   "outputs": [],
   "source": [
    "\n",
    "# Tạo đối tượng RandomizedSearchCV\n",
    "random_search = RandomizedSearchCV(\n",
    "    estimator=xgb_model,\n",
    "    param_distributions=param_dist,\n",
    "    n_iter=10,  # Số lần lặp tìm kiếm ngẫu nhiên\n",
    "    scoring='f1_macro',  # Chỉ số đánh giá\n",
    "    cv=5,  # Số fold cross-validation\n",
    "    n_jobs=-1,  # Sử dụng tất cả các CPU\n",
    "    verbose=2\n",
    ")"
   ]
  },
  {
   "cell_type": "code",
   "execution_count": 28,
   "id": "124aa9cb",
   "metadata": {
    "execution": {
     "iopub.execute_input": "2024-06-22T05:51:56.194693Z",
     "iopub.status.busy": "2024-06-22T05:51:56.194298Z",
     "iopub.status.idle": "2024-06-22T07:13:54.202675Z",
     "shell.execute_reply": "2024-06-22T07:13:54.200948Z"
    },
    "papermill": {
     "duration": 4918.061721,
     "end_time": "2024-06-22T07:13:54.233785",
     "exception": false,
     "start_time": "2024-06-22T05:51:56.172064",
     "status": "completed"
    },
    "tags": []
   },
   "outputs": [
    {
     "name": "stdout",
     "output_type": "stream",
     "text": [
      "Fitting 5 folds for each of 10 candidates, totalling 50 fits\n",
      "Best parameters found:  {'subsample': 0.8, 'n_estimators': 200, 'min_child_weight': 3, 'max_depth': 5, 'learning_rate': 0.3, 'gamma': 0.2, 'colsample_bytree': 0.9}\n",
      "Best F1-score:  0.9924048791546107\n"
     ]
    }
   ],
   "source": [
    "# Thực hiện tìm kiếm ngẫu nhiên\n",
    "random_search.fit(X_train, y_train)\n",
    "\n",
    "# In ra kết quả tốt nhất\n",
    "print(\"Best parameters found: \", random_search.best_params_)\n",
    "print(\"Best F1-score: \", random_search.best_score_)"
   ]
  },
  {
   "cell_type": "code",
   "execution_count": 29,
   "id": "6dee1595",
   "metadata": {
    "execution": {
     "iopub.execute_input": "2024-06-22T07:13:54.278349Z",
     "iopub.status.busy": "2024-06-22T07:13:54.277954Z",
     "iopub.status.idle": "2024-06-22T07:13:54.284529Z",
     "shell.execute_reply": "2024-06-22T07:13:54.283309Z"
    },
    "papermill": {
     "duration": 0.031606,
     "end_time": "2024-06-22T07:13:54.286821",
     "exception": false,
     "start_time": "2024-06-22T07:13:54.255215",
     "status": "completed"
    },
    "tags": []
   },
   "outputs": [],
   "source": [
    "best_params = random_search.best_params_"
   ]
  },
  {
   "cell_type": "markdown",
   "id": "daf14ec7",
   "metadata": {
    "papermill": {
     "duration": 0.020423,
     "end_time": "2024-06-22T07:13:54.328117",
     "exception": false,
     "start_time": "2024-06-22T07:13:54.307694",
     "status": "completed"
    },
    "tags": []
   },
   "source": [
    "#### 4.3. Áp dụng vào mô hình"
   ]
  },
  {
   "cell_type": "code",
   "execution_count": 30,
   "id": "fe7d349b",
   "metadata": {
    "execution": {
     "iopub.execute_input": "2024-06-22T07:13:54.371801Z",
     "iopub.status.busy": "2024-06-22T07:13:54.371403Z",
     "iopub.status.idle": "2024-06-22T07:16:37.215736Z",
     "shell.execute_reply": "2024-06-22T07:16:37.214046Z"
    },
    "papermill": {
     "duration": 162.86952,
     "end_time": "2024-06-22T07:16:37.218588",
     "exception": false,
     "start_time": "2024-06-22T07:13:54.349068",
     "status": "completed"
    },
    "tags": []
   },
   "outputs": [
    {
     "name": "stdout",
     "output_type": "stream",
     "text": [
      "[CV] END colsample_bytree=1.0, gamma=0, learning_rate=0.3, max_depth=3, min_child_weight=1, n_estimators=50, subsample=0.9; total time= 1.9min\n",
      "[CV] END colsample_bytree=1.0, gamma=0, learning_rate=0.3, max_depth=3, min_child_weight=1, n_estimators=50, subsample=0.9; total time= 1.8min\n",
      "[CV] END colsample_bytree=0.8, gamma=0.1, learning_rate=0.1, max_depth=7, min_child_weight=5, n_estimators=200, subsample=0.8; total time= 9.2min\n",
      "[CV] END colsample_bytree=1.0, gamma=0, learning_rate=0.01, max_depth=5, min_child_weight=5, n_estimators=200, subsample=1.0; total time= 8.2min\n",
      "[CV] END colsample_bytree=1.0, gamma=0.2, learning_rate=0.3, max_depth=5, min_child_weight=3, n_estimators=200, subsample=1.0; total time= 6.1min\n",
      "[CV] END colsample_bytree=1.0, gamma=0.2, learning_rate=0.3, max_depth=5, min_child_weight=3, n_estimators=200, subsample=1.0; total time= 6.1min\n",
      "[CV] END colsample_bytree=0.9, gamma=0, learning_rate=0.01, max_depth=7, min_child_weight=3, n_estimators=200, subsample=1.0; total time= 8.8min\n",
      "[CV] END colsample_bytree=0.9, gamma=0, learning_rate=0.01, max_depth=7, min_child_weight=3, n_estimators=200, subsample=1.0; total time= 8.7min\n",
      "[CV] END colsample_bytree=0.8, gamma=0, learning_rate=0.01, max_depth=5, min_child_weight=1, n_estimators=200, subsample=0.9; total time= 8.5min\n",
      "[CV] END colsample_bytree=1.0, gamma=0, learning_rate=0.01, max_depth=5, min_child_weight=3, n_estimators=200, subsample=0.8; total time= 8.2min\n",
      "[CV] END colsample_bytree=0.9, gamma=0.2, learning_rate=0.3, max_depth=5, min_child_weight=3, n_estimators=200, subsample=0.8; total time= 7.6min\n",
      "[CV] END colsample_bytree=1.0, gamma=0, learning_rate=0.1, max_depth=7, min_child_weight=3, n_estimators=50, subsample=0.8; total time= 2.3min\n",
      "[CV] END colsample_bytree=1.0, gamma=0, learning_rate=0.3, max_depth=3, min_child_weight=1, n_estimators=50, subsample=0.9; total time= 1.9min\n",
      "[CV] END colsample_bytree=0.8, gamma=0.1, learning_rate=0.1, max_depth=7, min_child_weight=5, n_estimators=200, subsample=0.8; total time= 9.2min\n",
      "[CV] END colsample_bytree=1.0, gamma=0, learning_rate=0.01, max_depth=5, min_child_weight=5, n_estimators=200, subsample=1.0; total time= 8.1min\n",
      "[CV] END colsample_bytree=1.0, gamma=0, learning_rate=0.01, max_depth=5, min_child_weight=5, n_estimators=200, subsample=1.0; total time= 8.1min\n",
      "[CV] END colsample_bytree=0.9, gamma=0.1, learning_rate=0.1, max_depth=3, min_child_weight=5, n_estimators=50, subsample=0.8; total time= 1.9min\n",
      "[CV] END colsample_bytree=0.9, gamma=0.1, learning_rate=0.1, max_depth=3, min_child_weight=5, n_estimators=50, subsample=0.8; total time= 2.0min\n",
      "[CV] END colsample_bytree=0.9, gamma=0.1, learning_rate=0.1, max_depth=3, min_child_weight=5, n_estimators=50, subsample=0.8; total time= 1.9min\n",
      "[CV] END colsample_bytree=0.9, gamma=0.1, learning_rate=0.1, max_depth=3, min_child_weight=5, n_estimators=50, subsample=0.8; total time= 2.0min\n",
      "[CV] END colsample_bytree=0.9, gamma=0, learning_rate=0.01, max_depth=7, min_child_weight=3, n_estimators=200, subsample=1.0; total time= 8.8min\n",
      "[CV] END colsample_bytree=0.8, gamma=0, learning_rate=0.01, max_depth=5, min_child_weight=1, n_estimators=200, subsample=0.9; total time= 8.6min\n",
      "[CV] END colsample_bytree=1.0, gamma=0, learning_rate=0.01, max_depth=5, min_child_weight=3, n_estimators=200, subsample=0.8; total time= 8.3min\n",
      "[CV] END colsample_bytree=0.9, gamma=0.2, learning_rate=0.3, max_depth=5, min_child_weight=3, n_estimators=200, subsample=0.8; total time= 7.5min\n",
      "[CV] END colsample_bytree=0.9, gamma=0.2, learning_rate=0.3, max_depth=5, min_child_weight=3, n_estimators=200, subsample=0.8; total time= 7.5min\n",
      "[CV] END colsample_bytree=1.0, gamma=0, learning_rate=0.1, max_depth=7, min_child_weight=3, n_estimators=50, subsample=0.8; total time= 2.2min\n",
      "[CV] END colsample_bytree=1.0, gamma=0, learning_rate=0.3, max_depth=3, min_child_weight=1, n_estimators=50, subsample=0.9; total time= 1.9min\n",
      "[CV] END colsample_bytree=0.8, gamma=0.1, learning_rate=0.1, max_depth=7, min_child_weight=5, n_estimators=200, subsample=0.8; total time= 9.2min\n",
      "[CV] END colsample_bytree=0.8, gamma=0.1, learning_rate=0.1, max_depth=7, min_child_weight=5, n_estimators=200, subsample=0.8; total time= 9.3min\n",
      "[CV] END colsample_bytree=1.0, gamma=0.2, learning_rate=0.3, max_depth=5, min_child_weight=3, n_estimators=200, subsample=1.0; total time= 6.3min\n",
      "[CV] END colsample_bytree=1.0, gamma=0.2, learning_rate=0.3, max_depth=5, min_child_weight=3, n_estimators=200, subsample=1.0; total time= 6.2min\n",
      "[CV] END colsample_bytree=0.9, gamma=0.1, learning_rate=0.1, max_depth=3, min_child_weight=5, n_estimators=50, subsample=0.8; total time= 1.9min\n",
      "[CV] END colsample_bytree=0.9, gamma=0, learning_rate=0.01, max_depth=7, min_child_weight=3, n_estimators=200, subsample=1.0; total time= 8.8min\n",
      "[CV] END colsample_bytree=0.8, gamma=0, learning_rate=0.01, max_depth=5, min_child_weight=1, n_estimators=200, subsample=0.9; total time= 8.5min\n",
      "[CV] END colsample_bytree=1.0, gamma=0, learning_rate=0.01, max_depth=5, min_child_weight=3, n_estimators=200, subsample=0.8; total time= 8.3min\n",
      "[CV] END colsample_bytree=1.0, gamma=0, learning_rate=0.01, max_depth=5, min_child_weight=3, n_estimators=200, subsample=0.8; total time= 8.2min\n",
      "[CV] END colsample_bytree=0.9, gamma=0.2, learning_rate=0.3, max_depth=5, min_child_weight=3, n_estimators=200, subsample=0.8; total time= 7.3min\n",
      "[CV] END colsample_bytree=1.0, gamma=0, learning_rate=0.1, max_depth=7, min_child_weight=3, n_estimators=50, subsample=0.8; total time= 2.2min\n",
      "[CV] END colsample_bytree=1.0, gamma=0, learning_rate=0.3, max_depth=3, min_child_weight=1, n_estimators=50, subsample=0.9; total time= 1.9min\n",
      "[CV] END colsample_bytree=0.8, gamma=0.1, learning_rate=0.1, max_depth=7, min_child_weight=5, n_estimators=200, subsample=0.8; total time= 9.2min\n",
      "[CV] END colsample_bytree=1.0, gamma=0, learning_rate=0.01, max_depth=5, min_child_weight=5, n_estimators=200, subsample=1.0; total time= 8.1min\n",
      "[CV] END colsample_bytree=1.0, gamma=0, learning_rate=0.01, max_depth=5, min_child_weight=5, n_estimators=200, subsample=1.0; total time= 8.1min\n",
      "[CV] END colsample_bytree=1.0, gamma=0.2, learning_rate=0.3, max_depth=5, min_child_weight=3, n_estimators=200, subsample=1.0; total time= 6.1min\n",
      "[CV] END colsample_bytree=0.9, gamma=0, learning_rate=0.01, max_depth=7, min_child_weight=3, n_estimators=200, subsample=1.0; total time= 8.8min\n",
      "[CV] END colsample_bytree=0.8, gamma=0, learning_rate=0.01, max_depth=5, min_child_weight=1, n_estimators=200, subsample=0.9; total time= 8.6min\n",
      "[CV] END colsample_bytree=0.8, gamma=0, learning_rate=0.01, max_depth=5, min_child_weight=1, n_estimators=200, subsample=0.9; total time= 8.6min\n",
      "[CV] END colsample_bytree=1.0, gamma=0, learning_rate=0.01, max_depth=5, min_child_weight=3, n_estimators=200, subsample=0.8; total time= 8.2min\n",
      "[CV] END colsample_bytree=0.9, gamma=0.2, learning_rate=0.3, max_depth=5, min_child_weight=3, n_estimators=200, subsample=0.8; total time= 7.5min\n",
      "[CV] END colsample_bytree=1.0, gamma=0, learning_rate=0.1, max_depth=7, min_child_weight=3, n_estimators=50, subsample=0.8; total time= 2.3min\n",
      "[CV] END colsample_bytree=1.0, gamma=0, learning_rate=0.1, max_depth=7, min_child_weight=3, n_estimators=50, subsample=0.8; total time= 2.0min\n",
      "TRAIN Set Classification Report:\n",
      "              precision    recall  f1-score   support\n",
      "\n",
      "         0.0       0.97      1.00      0.98    368481\n",
      "         1.0       1.00      1.00      1.00    254796\n",
      "         2.0       1.00      1.00      1.00    435507\n",
      "         3.0       1.00      0.98      0.99    468816\n",
      "\n",
      "    accuracy                           0.99   1527600\n",
      "   macro avg       0.99      0.99      0.99   1527600\n",
      "weighted avg       0.99      0.99      0.99   1527600\n",
      "\n",
      "TEST Set Classification Report:\n",
      "              precision    recall  f1-score   support\n",
      "\n",
      "         0.0       0.97      1.00      0.98    181519\n",
      "         1.0       1.00      1.00      1.00    125204\n",
      "         2.0       1.00      1.00      1.00    214493\n",
      "         3.0       1.00      0.98      0.99    231184\n",
      "\n",
      "    accuracy                           0.99    752400\n",
      "   macro avg       0.99      0.99      0.99    752400\n",
      "weighted avg       0.99      0.99      0.99    752400\n",
      "\n",
      "\n",
      "Parameters Used: \n",
      "\n",
      " {'memory': None, 'steps': [('clf', XGBClassifier(base_score=None, booster=None, callbacks=None,\n",
      "              colsample_bylevel=None, colsample_bynode=None,\n",
      "              colsample_bytree=0.9, device=None, early_stopping_rounds=None,\n",
      "              enable_categorical=False, eval_metric=None, feature_types=None,\n",
      "              gamma=0.2, grow_policy=None, importance_type=None,\n",
      "              interaction_constraints=None, learning_rate=0.3, max_bin=None,\n",
      "              max_cat_threshold=None, max_cat_to_onehot=None,\n",
      "              max_delta_step=None, max_depth=5, max_leaves=None,\n",
      "              min_child_weight=3, missing=nan, monotone_constraints=None,\n",
      "              multi_strategy=None, n_estimators=200, n_jobs=None,\n",
      "              num_parallel_tree=None, objective='multi:softprob', ...))], 'verbose': False, 'clf': XGBClassifier(base_score=None, booster=None, callbacks=None,\n",
      "              colsample_bylevel=None, colsample_bynode=None,\n",
      "              colsample_bytree=0.9, device=None, early_stopping_rounds=None,\n",
      "              enable_categorical=False, eval_metric=None, feature_types=None,\n",
      "              gamma=0.2, grow_policy=None, importance_type=None,\n",
      "              interaction_constraints=None, learning_rate=0.3, max_bin=None,\n",
      "              max_cat_threshold=None, max_cat_to_onehot=None,\n",
      "              max_delta_step=None, max_depth=5, max_leaves=None,\n",
      "              min_child_weight=3, missing=nan, monotone_constraints=None,\n",
      "              multi_strategy=None, n_estimators=200, n_jobs=None,\n",
      "              num_parallel_tree=None, objective='multi:softprob', ...), 'clf__objective': 'multi:softprob', 'clf__base_score': None, 'clf__booster': None, 'clf__callbacks': None, 'clf__colsample_bylevel': None, 'clf__colsample_bynode': None, 'clf__colsample_bytree': 0.9, 'clf__device': None, 'clf__early_stopping_rounds': None, 'clf__enable_categorical': False, 'clf__eval_metric': None, 'clf__feature_types': None, 'clf__gamma': 0.2, 'clf__grow_policy': None, 'clf__importance_type': None, 'clf__interaction_constraints': None, 'clf__learning_rate': 0.3, 'clf__max_bin': None, 'clf__max_cat_threshold': None, 'clf__max_cat_to_onehot': None, 'clf__max_delta_step': None, 'clf__max_depth': 5, 'clf__max_leaves': None, 'clf__min_child_weight': 3, 'clf__missing': nan, 'clf__monotone_constraints': None, 'clf__multi_strategy': None, 'clf__n_estimators': 200, 'clf__n_jobs': None, 'clf__num_parallel_tree': None, 'clf__random_state': None, 'clf__reg_alpha': None, 'clf__reg_lambda': None, 'clf__sampling_method': None, 'clf__scale_pos_weight': None, 'clf__subsample': 0.8, 'clf__tree_method': None, 'clf__validate_parameters': None, 'clf__verbosity': None}\n"
     ]
    },
    {
     "data": {
      "image/png": "[encoded data removed]",
      "text/plain": [
       "<Figure size 640x480 with 2 Axes>"
      ]
     },
     "metadata": {},
     "output_type": "display_data"
    },
    {
     "name": "stdout",
     "output_type": "stream",
     "text": [
      "Saved to: model.joblib\n"
     ]
    }
   ],
   "source": [
    "algorithms(X_train=X_train, y_train=y_train, X_test=X_test, y_test=y_test,\n",
    "                                    classifier=xgb.XGBClassifier(**best_params),\n",
    "                                    scaler=False)"
   ]
  },
  {
   "cell_type": "markdown",
   "id": "2bd8db76",
   "metadata": {
    "papermill": {
     "duration": 0.021677,
     "end_time": "2024-06-22T07:16:37.263585",
     "exception": false,
     "start_time": "2024-06-22T07:16:37.241908",
     "status": "completed"
    },
    "tags": []
   },
   "source": [
    "Hiệu suất sau khi tinh chỉnh không có quá nhiều khác biết đáng lưu tâm nên ta sẽ giữ mô hình cũ"
   ]
  }
 ],
 "metadata": {
  "kaggle": {
   "accelerator": "none",
   "dataSources": [
    {
     "datasetId": 5236451,
     "sourceId": 8725537,
     "sourceType": "datasetVersion"
    },
    {
     "datasetId": 5238266,
     "sourceId": 8727947,
     "sourceType": "datasetVersion"
    },
    {
     "datasetId": 5239109,
     "sourceId": 8729030,
     "sourceType": "datasetVersion"
    },
    {
     "datasetId": 5241243,
     "sourceId": 8731878,
     "sourceType": "datasetVersion"
    },
    {
     "datasetId": 5242592,
     "sourceId": 8733782,
     "sourceType": "datasetVersion"
    },
    {
     "datasetId": 5243230,
     "sourceId": 8734680,
     "sourceType": "datasetVersion"
    }
   ],
   "dockerImageVersionId": 30732,
   "isGpuEnabled": false,
   "isInternetEnabled": false,
   "language": "python",
   "sourceType": "notebook"
  },
  "kernelspec": {
   "display_name": "Python 3 (ipykernel)",
   "language": "python",
   "name": "python3"
  },
  "language_info": {
   "codemirror_mode": {
    "name": "ipython",
    "version": 3
   },
   "file_extension": ".py",
   "mimetype": "text/x-python",
   "name": "python",
   "nbconvert_exporter": "python",
   "pygments_lexer": "ipython3",
   "version": "3.12.4"
  },
  "papermill": {
   "default_parameters": {},
   "duration": 24713.212221,
   "end_time": "2024-06-22T07:16:40.074400",
   "environment_variables": {},
   "exception": null,
   "input_path": "__notebook__.ipynb",
   "output_path": "__notebook__.ipynb",
   "parameters": {},
   "start_time": "2024-06-22T00:24:46.862179",
   "version": "2.5.0"
  },
  "widgets": {
   "application/vnd.jupyter.widget-state+json": {
    "state": {},
    "version_major": 2,
    "version_minor": 0
   }
  }
 },
 "nbformat": 4,
 "nbformat_minor": 5
}
